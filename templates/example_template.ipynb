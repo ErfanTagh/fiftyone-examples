{
 "cells": [
  {
   "cell_type": "markdown",
   "metadata": {},
   "source": [
    "# Example Template\n",
    "\n",
    "This notebook provides a template for writing FiftyOne examples.\n",
    "\n",
    "Copy the relevant sections of this notebook into your own notebook to get started."
   ]
  },
  {
   "cell_type": "markdown",
   "metadata": {},
   "source": [
    "## Downloading a dataset\n",
    "\n",
    "If your example requires a pre-made FiftyOne dataset, you can make it available to users to download with just a couple lines of code.\n",
    "\n",
    "Follow the instructions in `Publishing the dataset` yourself, and then add the instructions in `User download` to your notebook."
   ]
  },
  {
   "cell_type": "markdown",
   "metadata": {},
   "source": [
    "### (Author) Publishing the dataset\n",
    "\n",
    "First, export your dataset to disk in [FiftyOneDataset format](https://voxel51.com/docs/fiftyone/user_guide/export_datasets.html#fiftyonedataset), which contains your entire dataset:"
   ]
  },
  {
   "cell_type": "code",
   "execution_count": null,
   "metadata": {},
   "outputs": [],
   "source": [
    "import fiftyone as fo\n",
    "\n",
    "dataset = fo.load_dataset(\"your-dataset\")\n",
    "\n",
    "dataset.export(export_dir=\"your-dataset/\", dataset_type=fo.types.FiftyOneDataset)"
   ]
  },
  {
   "cell_type": "markdown",
   "metadata": {},
   "source": [
    "Then zip (for example) the export and upload somewhere where users can download it."
   ]
  },
  {
   "cell_type": "code",
   "execution_count": null,
   "metadata": {},
   "outputs": [],
   "source": [
    "!zip -r your-dataset.zip your-dataset/\n",
    "!rm -rf your-dataset/\n",
    "\n",
    "# Upload somewhere where users can download it following instructions below"
   ]
  },
  {
   "cell_type": "markdown",
   "metadata": {},
   "source": [
    "### (User) Downloading the dataset\n",
    "\n",
    "Download and unzip the dataset for this example from the web:"
   ]
  },
  {
   "cell_type": "code",
   "execution_count": null,
   "metadata": {},
   "outputs": [],
   "source": [
    "# Example: Download from URL\n",
    "!wget -O your-dataset.zip <your-dataset-url>\n",
    "\n",
    "# Example: Download from public Google Drive link\n",
    "# FiftyOne includes the `eta` command, so users can run this!\n",
    "!eta gdrive download --public <your-dataset-gdrive-file-id> your-dataset.zip\n",
    "\n",
    "!unzip your-dataset.zip\n",
    "!rm your-dataset.zip"
   ]
  },
  {
   "cell_type": "markdown",
   "metadata": {},
   "source": [
    "Then load the dataset into FiftyOne: "
   ]
  },
  {
   "cell_type": "code",
   "execution_count": null,
   "metadata": {},
   "outputs": [],
   "source": [
    "import fiftyone as fo\n",
    "\n",
    "dataset = fo.Dataset.from_dir(\"your-dataset/\", fo.types.FiftyOneDataset)\n",
    "print(dataset)"
   ]
  }
 ],
 "metadata": {
  "kernelspec": {
   "display_name": "Python 3",
   "language": "python",
   "name": "python3"
  },
  "language_info": {
   "codemirror_mode": {
    "name": "ipython",
    "version": 3
   },
   "file_extension": ".py",
   "mimetype": "text/x-python",
   "name": "python",
   "nbconvert_exporter": "python",
   "pygments_lexer": "ipython3",
   "version": "3.6.8"
  }
 },
 "nbformat": 4,
 "nbformat_minor": 4
}
